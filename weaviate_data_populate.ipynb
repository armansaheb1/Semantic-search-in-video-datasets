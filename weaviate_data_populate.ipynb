{
 "cells": [
  {
   "cell_type": "code",
   "execution_count": 15,
   "id": "306988b5",
   "metadata": {},
   "outputs": [
    {
     "name": "stderr",
     "output_type": "stream",
     "text": [
      "/home/ars/Desktop/Semantic-search-in-video-datasets/env/lib/python3.10/site-packages/weaviate/warnings.py:162: DeprecationWarning: Dep016: Python client v3 `weaviate.Client(...)` connections and methods are deprecated. Update\n",
      "            your code to use Python client v4 `weaviate.WeaviateClient` connections and methods.\n",
      "\n",
      "            For Python Client v4 usage, see: https://weaviate.io/developers/weaviate/client-libraries/python\n",
      "            For code migration, see: https://weaviate.io/developers/weaviate/client-libraries/python/v3_v4_migration\n",
      "            \n",
      "  warnings.warn(\n"
     ]
    },
    {
     "data": {
      "text/plain": [
       "{'classes': []}"
      ]
     },
     "execution_count": 15,
     "metadata": {},
     "output_type": "execute_result"
    }
   ],
   "source": [
    "import weaviate\n",
    "client = weaviate.Client(\"http://localhost:8080\")\n",
    "client.schema.get()  # For the first time you will get classes: [] as you have no classes."
   ]
  },
  {
   "cell_type": "code",
   "execution_count": 16,
   "id": "c10f0168",
   "metadata": {},
   "outputs": [
    {
     "name": "stderr",
     "output_type": "stream",
     "text": [
      "huggingface/tokenizers: The current process just got forked, after parallelism has already been used. Disabling parallelism to avoid deadlocks...\n",
      "To disable this warning, you can either:\n",
      "\t- Avoid using `tokenizers` before the fork if possible\n",
      "\t- Explicitly set the environment variable TOKENIZERS_PARALLELISM=(true | false)\n"
     ]
    },
    {
     "name": "stdout",
     "output_type": "stream",
     "text": [
      "Requirement already satisfied: sentence-transformers in ./env/lib/python3.10/site-packages (2.7.0)\n",
      "Requirement already satisfied: scikit-learn in ./env/lib/python3.10/site-packages (from sentence-transformers) (1.2.2)\n",
      "Requirement already satisfied: scipy in ./env/lib/python3.10/site-packages (from sentence-transformers) (1.11.0)\n",
      "Requirement already satisfied: transformers<5.0.0,>=4.34.0 in ./env/lib/python3.10/site-packages (from sentence-transformers) (4.41.1)\n",
      "Requirement already satisfied: tqdm in ./env/lib/python3.10/site-packages (from sentence-transformers) (4.65.0)\n",
      "Requirement already satisfied: huggingface-hub>=0.15.1 in ./env/lib/python3.10/site-packages (from sentence-transformers) (0.23.1)\n",
      "Requirement already satisfied: Pillow in ./env/lib/python3.10/site-packages (from sentence-transformers) (9.4.0)\n",
      "Requirement already satisfied: numpy in ./env/lib/python3.10/site-packages (from sentence-transformers) (1.25.0)\n",
      "Requirement already satisfied: torch>=1.11.0 in ./env/lib/python3.10/site-packages (from sentence-transformers) (2.0.1)\n",
      "Requirement already satisfied: pyyaml>=5.1 in ./env/lib/python3.10/site-packages (from huggingface-hub>=0.15.1->sentence-transformers) (6.0.1)\n",
      "Requirement already satisfied: filelock in ./env/lib/python3.10/site-packages (from huggingface-hub>=0.15.1->sentence-transformers) (3.12.2)\n",
      "Requirement already satisfied: packaging>=20.9 in ./env/lib/python3.10/site-packages (from huggingface-hub>=0.15.1->sentence-transformers) (24.0)\n",
      "Requirement already satisfied: requests in ./env/lib/python3.10/site-packages (from huggingface-hub>=0.15.1->sentence-transformers) (2.31.0)\n",
      "Requirement already satisfied: typing-extensions>=3.7.4.3 in ./env/lib/python3.10/site-packages (from huggingface-hub>=0.15.1->sentence-transformers) (4.12.0)\n",
      "Requirement already satisfied: fsspec>=2023.5.0 in ./env/lib/python3.10/site-packages (from huggingface-hub>=0.15.1->sentence-transformers) (2023.6.0)\n",
      "Requirement already satisfied: networkx in ./env/lib/python3.10/site-packages (from torch>=1.11.0->sentence-transformers) (3.1)\n",
      "Requirement already satisfied: nvidia-cusparse-cu11==11.7.4.91 in ./env/lib/python3.10/site-packages (from torch>=1.11.0->sentence-transformers) (11.7.4.91)\n",
      "Requirement already satisfied: nvidia-nccl-cu11==2.14.3 in ./env/lib/python3.10/site-packages (from torch>=1.11.0->sentence-transformers) (2.14.3)\n",
      "Requirement already satisfied: triton==2.0.0 in ./env/lib/python3.10/site-packages (from torch>=1.11.0->sentence-transformers) (2.0.0)\n",
      "Requirement already satisfied: sympy in ./env/lib/python3.10/site-packages (from torch>=1.11.0->sentence-transformers) (1.12)\n",
      "Requirement already satisfied: jinja2 in ./env/lib/python3.10/site-packages (from torch>=1.11.0->sentence-transformers) (3.1.4)\n",
      "Requirement already satisfied: nvidia-cufft-cu11==10.9.0.58 in ./env/lib/python3.10/site-packages (from torch>=1.11.0->sentence-transformers) (10.9.0.58)\n",
      "Requirement already satisfied: nvidia-cuda-runtime-cu11==11.7.99 in ./env/lib/python3.10/site-packages (from torch>=1.11.0->sentence-transformers) (11.7.99)\n",
      "Requirement already satisfied: nvidia-nvtx-cu11==11.7.91 in ./env/lib/python3.10/site-packages (from torch>=1.11.0->sentence-transformers) (11.7.91)\n",
      "Requirement already satisfied: nvidia-cuda-cupti-cu11==11.7.101 in ./env/lib/python3.10/site-packages (from torch>=1.11.0->sentence-transformers) (11.7.101)\n",
      "Requirement already satisfied: nvidia-cublas-cu11==11.10.3.66 in ./env/lib/python3.10/site-packages (from torch>=1.11.0->sentence-transformers) (11.10.3.66)\n",
      "Requirement already satisfied: nvidia-curand-cu11==10.2.10.91 in ./env/lib/python3.10/site-packages (from torch>=1.11.0->sentence-transformers) (10.2.10.91)\n",
      "Requirement already satisfied: nvidia-cudnn-cu11==8.5.0.96 in ./env/lib/python3.10/site-packages (from torch>=1.11.0->sentence-transformers) (8.5.0.96)\n",
      "Requirement already satisfied: nvidia-cuda-nvrtc-cu11==11.7.99 in ./env/lib/python3.10/site-packages (from torch>=1.11.0->sentence-transformers) (11.7.99)\n",
      "Requirement already satisfied: nvidia-cusolver-cu11==11.4.0.1 in ./env/lib/python3.10/site-packages (from torch>=1.11.0->sentence-transformers) (11.4.0.1)\n",
      "Requirement already satisfied: wheel in ./env/lib/python3.10/site-packages (from nvidia-cublas-cu11==11.10.3.66->torch>=1.11.0->sentence-transformers) (0.37.1)\n",
      "Requirement already satisfied: setuptools in ./env/lib/python3.10/site-packages (from nvidia-cublas-cu11==11.10.3.66->torch>=1.11.0->sentence-transformers) (59.6.0)\n",
      "Requirement already satisfied: cmake in ./env/lib/python3.10/site-packages (from triton==2.0.0->torch>=1.11.0->sentence-transformers) (3.26.4)\n",
      "Requirement already satisfied: lit in ./env/lib/python3.10/site-packages (from triton==2.0.0->torch>=1.11.0->sentence-transformers) (16.0.6)\n",
      "Requirement already satisfied: regex!=2019.12.17 in ./env/lib/python3.10/site-packages (from transformers<5.0.0,>=4.34.0->sentence-transformers) (2023.6.3)\n",
      "Requirement already satisfied: safetensors>=0.4.1 in ./env/lib/python3.10/site-packages (from transformers<5.0.0,>=4.34.0->sentence-transformers) (0.4.3)\n",
      "Requirement already satisfied: tokenizers<0.20,>=0.19 in ./env/lib/python3.10/site-packages (from transformers<5.0.0,>=4.34.0->sentence-transformers) (0.19.1)\n",
      "Requirement already satisfied: joblib>=1.1.1 in ./env/lib/python3.10/site-packages (from scikit-learn->sentence-transformers) (1.2.0)\n",
      "Requirement already satisfied: threadpoolctl>=2.0.0 in ./env/lib/python3.10/site-packages (from scikit-learn->sentence-transformers) (3.1.0)\n",
      "Requirement already satisfied: MarkupSafe>=2.0 in ./env/lib/python3.10/site-packages (from jinja2->torch>=1.11.0->sentence-transformers) (2.1.5)\n",
      "Requirement already satisfied: idna<4,>=2.5 in ./env/lib/python3.10/site-packages (from requests->huggingface-hub>=0.15.1->sentence-transformers) (3.7)\n",
      "Requirement already satisfied: charset-normalizer<4,>=2 in ./env/lib/python3.10/site-packages (from requests->huggingface-hub>=0.15.1->sentence-transformers) (3.3.2)\n",
      "Requirement already satisfied: urllib3<3,>=1.21.1 in ./env/lib/python3.10/site-packages (from requests->huggingface-hub>=0.15.1->sentence-transformers) (2.2.1)\n",
      "Requirement already satisfied: certifi>=2017.4.17 in ./env/lib/python3.10/site-packages (from requests->huggingface-hub>=0.15.1->sentence-transformers) (2024.2.2)\n",
      "Requirement already satisfied: mpmath>=0.19 in ./env/lib/python3.10/site-packages (from sympy->torch>=1.11.0->sentence-transformers) (1.3.0)\n"
     ]
    }
   ],
   "source": [
    "!pip install -U sentence-transformers\n"
   ]
  },
  {
   "cell_type": "code",
   "execution_count": 17,
   "id": "a944083a",
   "metadata": {},
   "outputs": [
    {
     "name": "stderr",
     "output_type": "stream",
     "text": [
      "/home/ars/Desktop/Semantic-search-in-video-datasets/env/lib/python3.10/site-packages/huggingface_hub/file_download.py:1132: FutureWarning: `resume_download` is deprecated and will be removed in version 1.0.0. Downloads always resume when possible. If you want to force a new download, use `force_download=True`.\n",
      "  warnings.warn(\n"
     ]
    }
   ],
   "source": [
    "from sentence_transformers import SentenceTransformer\n",
    "\n",
    "model = SentenceTransformer('sentence-transformers/all-MiniLM-L6-v2')\n",
    "\n",
    "def get_embedding(text):\n",
    "    embeddings = model.encode(sentences)\n",
    "    return embeddings\n"
   ]
  },
  {
   "cell_type": "code",
   "execution_count": 18,
   "id": "893d9490",
   "metadata": {},
   "outputs": [],
   "source": [
    "class_obj = {\n",
    "    \"class\": \"Video_text\"\n",
    "}\n",
    "client.schema.create_class(class_obj)  # This will give error if class already exists."
   ]
  },
  {
   "cell_type": "code",
   "execution_count": null,
   "id": "5bb9d490",
   "metadata": {},
   "outputs": [],
   "source": []
  },
  {
   "cell_type": "markdown",
   "id": "1bad56d0",
   "metadata": {},
   "source": []
  },
  {
   "cell_type": "code",
   "execution_count": 19,
   "id": "d833b189",
   "metadata": {},
   "outputs": [],
   "source": [
    "class_obj1 = {\n",
    "    \"class\": \"Video_text_description\"\n",
    "}\n",
    "client.schema.create_class(class_obj1)"
   ]
  },
  {
   "cell_type": "code",
   "execution_count": 20,
   "id": "bcd10162",
   "metadata": {},
   "outputs": [],
   "source": [
    "class_obj2 = {\n",
    "    \"class\": \"Video_description\"\n",
    "}\n",
    "client.schema.create_class(class_obj2)"
   ]
  },
  {
   "cell_type": "code",
   "execution_count": 21,
   "id": "c442a75b",
   "metadata": {},
   "outputs": [],
   "source": [
    "import os\n",
    "import json\n",
    "input_directory = 'output_data'"
   ]
  },
  {
   "cell_type": "code",
   "execution_count": 22,
   "id": "4c729c54",
   "metadata": {},
   "outputs": [],
   "source": [
    "json_files = [f for f in os.listdir(input_directory) if f.endswith('.json')]\n"
   ]
  },
  {
   "cell_type": "code",
   "execution_count": 23,
   "id": "4bc36d93",
   "metadata": {},
   "outputs": [
    {
     "data": {
      "text/plain": [
       "['Second Persian Invasion.v4.json',\n",
       " 'Caesar, Cleopatra and the Ides of March  World History  Khan Academy.v4.json',\n",
       " 'The Peloponnesian War  World History  Khan Academy.v4.json',\n",
       " 'Rise of Julius Caesar  World History  Khan Academy.v4.json',\n",
       " 'Roman social and political structures  World History  Khan Academy.v4.json',\n",
       " 'Pre Columbian Americas   World History  Khan Academy.v4.json',\n",
       " 'Overview of ancient Persia  World History  Khan Academy.v4.json',\n",
       " 'Socrates Plato Aristotle  World History  Khan Academy.v4.json',\n",
       " 'Background of the Carthaginians  World History  Khan Academy.v4.json',\n",
       " 'Ancient Egypt  Early Civilizations  World History  Khan Academy.v4.json',\n",
       " 'Ancient Mesopotamia  Early Civilizations  World History  Khan Academy.v4.json',\n",
       " 'Overview of ancient Greece  World History  Khan Academy.v4.json',\n",
       " 'Indus Valley Civilization   Early Civilizations  World History  Khan Academy.v4.json',\n",
       " 'Sanskrit connections to English   World History  Khan Academy.v4.json',\n",
       " 'Beginning of the Greco Persian Wars  World History  Khan Academy.v4.json',\n",
       " 'History and prehistory  The Origin of Humans and Human Societies  World History  Khan Academy.v4.json',\n",
       " 'Zoroastrianism  World History  Khan Academy.v4.json',\n",
       " 'Overview of the Roman Empire  World History  Khan Academy.v4.json',\n",
       " 'Punic Wars between Rome and Carthage  World History  Khan Academy.v4.json',\n",
       " 'Prelude to the Peloponnesian War  World History  Khan Academy.v4.json',\n",
       " 'Ancient China  Early Civilizations  World History  Khan Academy.v4.json',\n",
       " 'Alexander the Great takes power  World History  Khan Academy.v4.json',\n",
       " 'Cyrus the Great establishes the Achaemenid Empire  World History  Khan Academy.v4.json',\n",
       " 'Alexander the Great conquers Persia  World History  Khan Academy.v4.json',\n",
       " 'Diadochi and the Hellenistic Period  World History  Khan Academy.v4.json',\n",
       " 'Ides of March spark a civil war  World History  Khan Academy.v4.json',\n",
       " 'Philip of Macedon unifies Greece  World History  Khan Academy.v4.json',\n",
       " 'Origins of agriculture   World History  Khan Academy.v4.json',\n",
       " 'The Hittite Empire and the Battle of Kadesh  Early Civilizations  World History  Khan Academy.v4.json',\n",
       " 'Golden Age of Athens, Pericles and Greek Culture  World History  Khan Academy.v4.json',\n",
       " 'Introduction to the Vedic Period   World History  Khan Academy.v4.json']"
      ]
     },
     "execution_count": 23,
     "metadata": {},
     "output_type": "execute_result"
    }
   ],
   "source": [
    "# This list will show json files that you will be populating. Verify once that this file is already not populated to avoid duplicate data.\n",
    "json_files"
   ]
  },
  {
   "cell_type": "code",
   "execution_count": null,
   "id": "c3ff487e",
   "metadata": {},
   "outputs": [],
   "source": []
  },
  {
   "cell_type": "code",
   "execution_count": 24,
   "id": "69fa03d8",
   "metadata": {},
   "outputs": [
    {
     "name": "stdout",
     "output_type": "stream",
     "text": [
      "file done\n",
      "file done\n",
      "file done\n",
      "file done\n",
      "file done\n",
      "file done\n",
      "file done\n",
      "file done\n",
      "file done\n",
      "file done\n",
      "file done\n",
      "file done\n",
      "file done\n",
      "file done\n",
      "file done\n",
      "file done\n",
      "file done\n",
      "file done\n",
      "file done\n",
      "file done\n",
      "file done\n",
      "file done\n",
      "file done\n",
      "file done\n",
      "file done\n",
      "file done\n",
      "file done\n",
      "file done\n",
      "file done\n",
      "file done\n",
      "file done\n"
     ]
    }
   ],
   "source": [
    "# Make sure that json_files you have in variable 'json_files' have already not been populated. Otherwise it will insert duplicate records in weaviate.\n",
    "\n",
    "for file_name in json_files:\n",
    "    input_file = os.path.join(input_directory, file_name)\n",
    "    with open(input_file) as f:\n",
    "        data = json.load(f)  \n",
    "        metadata = data['metadata']['file']\n",
    "        video_id = data['metadata']['text_id']\n",
    "        with client.batch(batch_size=100) as batch:\n",
    "            \n",
    "            for sent in data['sentences']:\n",
    "                \n",
    "                embedding_video_text = model.encode(sent['sentence'])\n",
    "                properties_text = {\n",
    "                   \"text\": sent['sentence'],\n",
    "                   \"starttime\" : sent['starttime'],\n",
    "                   \"endtime\" : sent['endtime'],\n",
    "                   \"metadata\" : metadata,\n",
    "                   \"video_id\" : video_id\n",
    "                }\n",
    "                \n",
    "                client.batch.add_data_object(\n",
    "                    properties_text,\n",
    "                    \"Video_text\",\n",
    "                    vector = embedding_video_text\n",
    "                )\n",
    "                                \n",
    "                combined_text = \"In the video you can hear: \" + sent['sentence'] + \" In the video you can see: \" + \", \".join([sentence.strip(\" .\") for sentence in []]) + '.'\n",
    "                embedding_video_text_desc = model.encode(combined_text)\n",
    "                properties_video_text_desc = {\n",
    "                   \"text\": combined_text,\n",
    "                   \"starttime\" : sent['starttime'],\n",
    "                   \"endtime\" : sent['endtime'],\n",
    "                   \"metadata\" : metadata,\n",
    "                   \"video_id\" : video_id\n",
    "                }\n",
    "                client.batch.add_data_object(\n",
    "                    properties_video_text_desc,\n",
    "                    \"Video_text_description\",\n",
    "                     vector = embedding_video_text_desc\n",
    "                )\n",
    "                \n",
    "                video_desc = \", \".join([sentence.strip(\" .\") for sentence in []]) + '.'\n",
    "                embedding_video_desc = model.encode(video_desc)\n",
    "                properties_video_desc = {\n",
    "                   \"text\": video_desc,\n",
    "                   \"starttime\" : sent['starttime'],\n",
    "                   \"endtime\" : sent['endtime'],\n",
    "                   \"metadata\" : metadata,\n",
    "                   \"video_id\" : video_id\n",
    "                }\n",
    "                client.batch.add_data_object(\n",
    "                    properties_video_desc,\n",
    "                    \"Video_description\",\n",
    "                     vector = embedding_video_desc\n",
    "                )\n",
    "    print(\"file done\")"
   ]
  },
  {
   "cell_type": "code",
   "execution_count": 25,
   "id": "4f1fc4cc",
   "metadata": {},
   "outputs": [
    {
     "data": {
      "text/plain": [
       "{'data': {'Aggregate': {'Video_text_description': [{'meta': {'count': 3657}}]}}}"
      ]
     },
     "execution_count": 25,
     "metadata": {},
     "output_type": "execute_result"
    }
   ],
   "source": [
    "client.query.aggregate(\"Video_text_description\").with_meta_count().do()"
   ]
  },
  {
   "cell_type": "code",
   "execution_count": 26,
   "id": "9845202e",
   "metadata": {},
   "outputs": [
    {
     "name": "stdout",
     "output_type": "stream",
     "text": [
      "{\n",
      "    \"data\": {\n",
      "        \"Get\": {\n",
      "            \"Video_text_description\": [\n",
      "                {\n",
      "                    \"_additional\": {\n",
      "                        \"distance\": 0.42231953\n",
      "                    },\n",
      "                    \"endtime\": \"003.48\",\n",
      "                    \"metadata\": \"/db/tv/2016/2016-02/2016-02-02/2016-02-02_0000_US_FOX-News_On_the_Record_with_Greta_Van_Susteren.txt\",\n",
      "                    \"starttime\": \"056.96\",\n",
      "                    \"text\": \"In the video you can hear: And so you can imagine as he is now victorious, the senators are worried. In the video you can see: .\",\n",
      "                    \"video_id\": \"Rise of Julius Caesar  World History  Khan Academy.mp4\"\n",
      "                },\n",
      "                {\n",
      "                    \"_additional\": {\n",
      "                        \"distance\": 0.43169546\n",
      "                    },\n",
      "                    \"endtime\": \"042.44\",\n",
      "                    \"metadata\": \"/db/tv/2016/2016-02/2016-02-02/2016-02-02_0000_US_FOX-News_On_the_Record_with_Greta_Van_Susteren.txt\",\n",
      "                    \"starttime\": \"040.32\",\n",
      "                    \"text\": \"In the video you can hear: A good number of the powerful senators. In the video you can see: .\",\n",
      "                    \"video_id\": \"Rise of Julius Caesar  World History  Khan Academy.mp4\"\n",
      "                },\n",
      "                {\n",
      "                    \"_additional\": {\n",
      "                        \"distance\": 0.44792855\n",
      "                    },\n",
      "                    \"endtime\": \"056.96\",\n",
      "                    \"metadata\": \"/db/tv/2016/2016-02/2016-02-02/2016-02-02_0000_US_FOX-News_On_the_Record_with_Greta_Van_Susteren.txt\",\n",
      "                    \"starttime\": \"052.32\",\n",
      "                    \"text\": \"In the video you can hear: that were noteworthy, and some social and political structures that continued onto the In the video you can see: .\",\n",
      "                    \"video_id\": \"Roman social and political structures  World History  Khan Academy.mp4\"\n",
      "                },\n",
      "                {\n",
      "                    \"_additional\": {\n",
      "                        \"distance\": 0.45361352\n",
      "                    },\n",
      "                    \"endtime\": \"050.00\",\n",
      "                    \"metadata\": \"/db/tv/2016/2016-02/2016-02-02/2016-02-02_0000_US_FOX-News_On_the_Record_with_Greta_Van_Susteren.txt\",\n",
      "                    \"starttime\": \"045.12\",\n",
      "                    \"text\": \"In the video you can hear: the Senate. How are they selected for the Senate? Well, in the early days, it was actually the In the video you can see: .\",\n",
      "                    \"video_id\": \"Roman social and political structures  World History  Khan Academy.mp4\"\n",
      "                },\n",
      "                {\n",
      "                    \"_additional\": {\n",
      "                        \"distance\": 0.4536329\n",
      "                    },\n",
      "                    \"endtime\": \"051.44\",\n",
      "                    \"metadata\": \"/db/tv/2016/2016-02/2016-02-02/2016-02-02_0000_US_FOX-News_On_the_Record_with_Greta_Van_Susteren.txt\",\n",
      "                    \"starttime\": \"046.76\",\n",
      "                    \"text\": \"In the video you can hear: He has these more populous tendencies while there's a lot of these conservatives in the Senate. In the video you can see: .\",\n",
      "                    \"video_id\": \"Rise of Julius Caesar  World History  Khan Academy.mp4\"\n",
      "                }\n",
      "            ]\n",
      "        }\n",
      "    }\n",
      "}\n"
     ]
    }
   ],
   "source": [
    "## Vector Similarity Search\n",
    "\n",
    "text_search_input = \"Ted Cruz scores a huge victory\"\n",
    "image_search_input = \"a group of people taking photos\"\n",
    "combined_text = \"In the video you can hear: \" + text_search_input + \"In the video you can see: \" + image_search_input\n",
    "vector = model.encode(combined_text)\n",
    "\n",
    "response = (\n",
    "    client.query\n",
    "    .get(\"Video_text_description\", [\"text\", \"starttime\", \"endtime\", \"metadata\",\"video_id\"])\n",
    "    .with_near_vector({\n",
    "        \"vector\" : vector\n",
    "    })\n",
    "    .with_limit(5)\n",
    "    .with_additional([\"distance\"])\n",
    "    .do()\n",
    ")\n",
    "print(json.dumps(response, indent=4))\n"
   ]
  },
  {
   "cell_type": "code",
   "execution_count": null,
   "id": "30b3911b",
   "metadata": {},
   "outputs": [],
   "source": []
  }
 ],
 "metadata": {
  "kernelspec": {
   "display_name": "Python 3",
   "language": "python",
   "name": "python3"
  },
  "language_info": {
   "codemirror_mode": {
    "name": "ipython",
    "version": 3
   },
   "file_extension": ".py",
   "mimetype": "text/x-python",
   "name": "python",
   "nbconvert_exporter": "python",
   "pygments_lexer": "ipython3",
   "version": "3.10.12"
  }
 },
 "nbformat": 4,
 "nbformat_minor": 5
}
